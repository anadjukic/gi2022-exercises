{
 "cells": [
  {
   "cell_type": "code",
   "execution_count": 1,
   "metadata": {},
   "outputs": [],
   "source": [
    "import pysam"
   ]
  },
  {
   "cell_type": "code",
   "execution_count": 3,
   "metadata": {},
   "outputs": [],
   "source": [
    "samfile = pysam.AlignmentFile('merged-tumor.bam', 'rb')\n",
    "reads = list(samfile.fetch())\n",
    "samfile.close()"
   ]
  },
  {
   "cell_type": "code",
   "execution_count": 4,
   "metadata": {},
   "outputs": [],
   "source": [
    "first_read = reads[0]"
   ]
  },
  {
   "cell_type": "code",
   "execution_count": 5,
   "metadata": {},
   "outputs": [
    {
     "data": {
      "text/plain": [
       "<pysam.libcalignedsegment.AlignedSegment at 0x7f5fd815d4c8>"
      ]
     },
     "execution_count": 5,
     "metadata": {},
     "output_type": "execute_result"
    }
   ],
   "source": [
    "first_read"
   ]
  },
  {
   "cell_type": "code",
   "execution_count": 6,
   "metadata": {},
   "outputs": [
    {
     "name": "stdout",
     "output_type": "stream",
     "text": [
      "C0HVYACXX120402:7:1207:5722:57044\t1187\t#20\t9483249\t27\t76M\t#20\t9483382\t209\tTTTTCAAACAGTATCTATGCCTGCCAAATGTGAACATATAAAAAAAAACCAGAATGTGCCATTCTGATTTAAACTG\tarray('B', [28, 28, 27, 29, 31, 30, 31, 31, 29, 31, 35, 30, 29, 31, 34, 30, 29, 23, 41, 32, 20, 30, 29, 34, 34, 29, 30, 31, 30, 30, 30, 33, 33, 26, 39, 12, 25, 19, 32, 30, 35, 28, 35, 33, 23, 33, 35, 36, 30, 38, 33, 41, 34, 35, 31, 33, 23, 30, 30, 36, 27, 32, 29, 34, 35, 41, 33, 31, 33, 29, 32, 32, 31, 31, 31, 34])\t[('XA', 'GL000217.1,-110754,76M,1;'), ('BD', 'NNNNNNNNNNNNNNNNNNNNNNNNNNNNNNNNNNNNNNNNNNNNNNNNNNNNNNNNNNNNNNNNNNNNNNNNNNNN'), ('MD', '76'), ('RG', '1'), ('BI', 'NNNNNNNNNNNNNNNNNNNNNNNNNNNNNNNNNNNNNNNNNNNNNNNNNNNNNNNNNNNNNNNNNNNNNNNNNNNN'), ('NM', 0), ('MQ', 27), ('AS', 76), ('XS', 71)]\n"
     ]
    }
   ],
   "source": [
    "print(first_read)"
   ]
  },
  {
   "cell_type": "code",
   "execution_count": 7,
   "metadata": {},
   "outputs": [
    {
     "data": {
      "text/plain": [
       "['__class__',\n",
       " '__copy__',\n",
       " '__deepcopy__',\n",
       " '__delattr__',\n",
       " '__dir__',\n",
       " '__doc__',\n",
       " '__eq__',\n",
       " '__format__',\n",
       " '__ge__',\n",
       " '__getattribute__',\n",
       " '__gt__',\n",
       " '__hash__',\n",
       " '__init__',\n",
       " '__init_subclass__',\n",
       " '__le__',\n",
       " '__lt__',\n",
       " '__ne__',\n",
       " '__new__',\n",
       " '__pyx_vtable__',\n",
       " '__reduce__',\n",
       " '__reduce_ex__',\n",
       " '__repr__',\n",
       " '__setattr__',\n",
       " '__setstate__',\n",
       " '__sizeof__',\n",
       " '__str__',\n",
       " '__subclasshook__',\n",
       " 'aend',\n",
       " 'alen',\n",
       " 'aligned_pairs',\n",
       " 'bin',\n",
       " 'blocks',\n",
       " 'cigar',\n",
       " 'cigarstring',\n",
       " 'cigartuples',\n",
       " 'compare',\n",
       " 'flag',\n",
       " 'from_dict',\n",
       " 'fromstring',\n",
       " 'get_aligned_pairs',\n",
       " 'get_blocks',\n",
       " 'get_cigar_stats',\n",
       " 'get_forward_qualities',\n",
       " 'get_forward_sequence',\n",
       " 'get_overlap',\n",
       " 'get_reference_positions',\n",
       " 'get_reference_sequence',\n",
       " 'get_tag',\n",
       " 'get_tags',\n",
       " 'has_tag',\n",
       " 'header',\n",
       " 'infer_query_length',\n",
       " 'infer_read_length',\n",
       " 'inferred_length',\n",
       " 'is_duplicate',\n",
       " 'is_forward',\n",
       " 'is_mapped',\n",
       " 'is_paired',\n",
       " 'is_proper_pair',\n",
       " 'is_qcfail',\n",
       " 'is_read1',\n",
       " 'is_read2',\n",
       " 'is_reverse',\n",
       " 'is_secondary',\n",
       " 'is_supplementary',\n",
       " 'is_unmapped',\n",
       " 'isize',\n",
       " 'mapping_quality',\n",
       " 'mapq',\n",
       " 'mate_is_forward',\n",
       " 'mate_is_mapped',\n",
       " 'mate_is_reverse',\n",
       " 'mate_is_unmapped',\n",
       " 'modified_bases',\n",
       " 'modified_bases_forward',\n",
       " 'mpos',\n",
       " 'mrnm',\n",
       " 'next_reference_id',\n",
       " 'next_reference_name',\n",
       " 'next_reference_start',\n",
       " 'opt',\n",
       " 'overlap',\n",
       " 'pnext',\n",
       " 'pos',\n",
       " 'positions',\n",
       " 'qend',\n",
       " 'qlen',\n",
       " 'qname',\n",
       " 'qqual',\n",
       " 'qstart',\n",
       " 'qual',\n",
       " 'query',\n",
       " 'query_alignment_end',\n",
       " 'query_alignment_length',\n",
       " 'query_alignment_qualities',\n",
       " 'query_alignment_sequence',\n",
       " 'query_alignment_start',\n",
       " 'query_length',\n",
       " 'query_name',\n",
       " 'query_qualities',\n",
       " 'query_sequence',\n",
       " 'reference_end',\n",
       " 'reference_id',\n",
       " 'reference_length',\n",
       " 'reference_name',\n",
       " 'reference_start',\n",
       " 'rlen',\n",
       " 'rname',\n",
       " 'rnext',\n",
       " 'seq',\n",
       " 'setTag',\n",
       " 'set_tag',\n",
       " 'set_tags',\n",
       " 'tags',\n",
       " 'template_length',\n",
       " 'tid',\n",
       " 'tlen',\n",
       " 'to_dict',\n",
       " 'to_string',\n",
       " 'tostring']"
      ]
     },
     "execution_count": 7,
     "metadata": {},
     "output_type": "execute_result"
    }
   ],
   "source": [
    "dir(first_read)"
   ]
  },
  {
   "cell_type": "code",
   "execution_count": 8,
   "metadata": {},
   "outputs": [
    {
     "data": {
      "text/plain": [
       "1187"
      ]
     },
     "execution_count": 8,
     "metadata": {},
     "output_type": "execute_result"
    }
   ],
   "source": [
    "first_read.flag"
   ]
  },
  {
   "cell_type": "markdown",
   "metadata": {},
   "source": [
    "When flag field decoded https://broadinstitute.github.io/picard/explain-flags.html Summary:\n",
    "\n",
    "- read paired (0x1)\n",
    "- read mapped in proper pair (0x2)\n",
    "- mate reverse strand (0x20)\n",
    "- second in pair (0x80)\n",
    "- read is PCR or optical duplicate (0x400)"
   ]
  },
  {
   "cell_type": "code",
   "execution_count": 9,
   "metadata": {},
   "outputs": [
    {
     "data": {
      "text/plain": [
       "True"
      ]
     },
     "execution_count": 9,
     "metadata": {},
     "output_type": "execute_result"
    }
   ],
   "source": [
    "first_read.is_paired"
   ]
  },
  {
   "cell_type": "code",
   "execution_count": 10,
   "metadata": {},
   "outputs": [
    {
     "data": {
      "text/plain": [
       "True"
      ]
     },
     "execution_count": 10,
     "metadata": {},
     "output_type": "execute_result"
    }
   ],
   "source": [
    "first_read.is_proper_pair"
   ]
  },
  {
   "cell_type": "code",
   "execution_count": 11,
   "metadata": {},
   "outputs": [
    {
     "data": {
      "text/plain": [
       "True"
      ]
     },
     "execution_count": 11,
     "metadata": {},
     "output_type": "execute_result"
    }
   ],
   "source": [
    "first_read.mate_is_reverse"
   ]
  },
  {
   "cell_type": "code",
   "execution_count": 12,
   "metadata": {},
   "outputs": [
    {
     "name": "stdout",
     "output_type": "stream",
     "text": [
      "Number of unmapped reads: 17765\n"
     ]
    }
   ],
   "source": [
    "# How many unmapped reads are in the file\n",
    "\n",
    "unmapped_reads = [read for read in reads if read.is_unmapped]\n",
    "num_of_unmapped = len(unmapped_reads)\n",
    "print(f'Number of unmapped reads: {num_of_unmapped}')"
   ]
  },
  {
   "cell_type": "code",
   "execution_count": 13,
   "metadata": {},
   "outputs": [
    {
     "name": "stdout",
     "output_type": "stream",
     "text": [
      "Total number of reads: 2921629\n"
     ]
    }
   ],
   "source": [
    "# Total number of reads\n",
    "\n",
    "total_num_of_reads = len(reads)\n",
    "print(f'Total number of reads: {total_num_of_reads}')"
   ]
  },
  {
   "cell_type": "code",
   "execution_count": 14,
   "metadata": {},
   "outputs": [
    {
     "name": "stdout",
     "output_type": "stream",
     "text": [
      "Number of reads with zero mapping quality: 126628\n"
     ]
    }
   ],
   "source": [
    "# Number of reads with mapping quality 0\n",
    "\n",
    "reads_with_mapqual_zero = [read for read in reads if read.mapping_quality == 0]\n",
    "num_reads_mapqual_zero = len(reads_with_mapqual_zero)\n",
    "print(f'Number of reads with zero mapping quality: {num_reads_mapqual_zero}')"
   ]
  },
  {
   "cell_type": "code",
   "execution_count": 15,
   "metadata": {},
   "outputs": [
    {
     "name": "stdout",
     "output_type": "stream",
     "text": [
      "Average mapping quality: 55.91379158681681\n"
     ]
    }
   ],
   "source": [
    "# Average mapping quality for all the reads\n",
    "\n",
    "mapqual_sum = 0\n",
    "for read in reads:\n",
    "    mapqual_sum += read.mapping_quality\n",
    "avg_mapqual = mapqual_sum / total_num_of_reads\n",
    "print(f'Average mapping quality: {avg_mapqual}')"
   ]
  },
  {
   "cell_type": "code",
   "execution_count": 16,
   "metadata": {},
   "outputs": [
    {
     "name": "stdout",
     "output_type": "stream",
     "text": [
      "Average mapping quality if reads with 0 mapping quality are filtered out: 58.446975510921106\n"
     ]
    }
   ],
   "source": [
    "# Average mapping quality if reads with 0 mapp quality are filtered out\n",
    "\n",
    "filtered_reads = [read for read in reads if read.mapping_quality != 0]\n",
    "mapqual_sum_filtered = 0\n",
    "for read in filtered_reads:\n",
    "    mapqual_sum_filtered += read.mapping_quality\n",
    "avg_mapqual_filtered = mapqual_sum_filtered / len(filtered_reads)\n",
    "print(f'Average mapping quality if reads with 0 mapping quality are filtered out: {avg_mapqual_filtered}')"
   ]
  },
  {
   "cell_type": "code",
   "execution_count": null,
   "metadata": {},
   "outputs": [],
   "source": []
  }
 ],
 "metadata": {
  "kernelspec": {
   "display_name": "Python 3",
   "language": "python",
   "name": "python3"
  },
  "language_info": {
   "codemirror_mode": {
    "name": "ipython",
    "version": 3
   },
   "file_extension": ".py",
   "mimetype": "text/x-python",
   "name": "python",
   "nbconvert_exporter": "python",
   "pygments_lexer": "ipython3",
   "version": "3.6.9"
  }
 },
 "nbformat": 4,
 "nbformat_minor": 4
}
